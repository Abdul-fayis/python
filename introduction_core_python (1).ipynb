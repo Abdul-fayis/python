{
  "nbformat": 4,
  "nbformat_minor": 0,
  "metadata": {
    "colab": {
      "provenance": []
    },
    "kernelspec": {
      "name": "python3",
      "display_name": "Python 3"
    },
    "language_info": {
      "name": "python"
    }
  },
  "cells": [
    {
      "cell_type": "markdown",
      "source": [
        "### **python**"
      ],
      "metadata": {
        "id": "HH2omd1Fcrdv"
      }
    },
    {
      "cell_type": "code",
      "execution_count": null,
      "metadata": {
        "id": "vCtHtDypbq3s"
      },
      "outputs": [],
      "source": [
        "#python is a popular programming lamguage\n",
        "#python can be used on a server to create web applications"
      ]
    },
    {
      "cell_type": "markdown",
      "source": [],
      "metadata": {
        "id": "ilrX4EBXnfUu"
      }
    },
    {
      "cell_type": "markdown",
      "source": [],
      "metadata": {
        "id": "rLQ_o_t6nlab"
      }
    },
    {
      "cell_type": "markdown",
      "source": [],
      "metadata": {
        "id": "J1_8xV2vnp-q"
      }
    },
    {
      "cell_type": "markdown",
      "source": [],
      "metadata": {
        "id": "0L5lxbZZnsWo"
      }
    },
    {
      "cell_type": "markdown",
      "source": [],
      "metadata": {
        "id": "CPiLIYQcntww"
      }
    },
    {
      "cell_type": "markdown",
      "source": [],
      "metadata": {
        "id": "E4w31-2ndQOc"
      }
    },
    {
      "cell_type": "markdown",
      "source": [
        "python\n",
        "\n",
        "python is a popular programming language.\n",
        "\n",
        "python can be used on a server to ceate web\n",
        "\n",
        "applications."
      ],
      "metadata": {
        "id": "wQtK6Y0Vdk60"
      }
    },
    {
      "cell_type": "code",
      "source": [],
      "metadata": {
        "id": "qTkKWLWalFN7"
      },
      "execution_count": null,
      "outputs": []
    },
    {
      "cell_type": "markdown",
      "source": [
        "python can be used on a server to create web application.\n",
        "\n",
        "python can be used to handle big data and perform complex mathematics.\n",
        "\n",
        "python can be used for rapid prototyping,or for production-ready software developement.\n",
        "\n",
        "python works on different platforms(windows,mac,linux,raspberry pi,etc).\n",
        "\n",
        "python has a simple syntax similar to the english languages.\n",
        "\n",
        "python runs on an interpreter system,meaning that code can be executed as soon as it is written.this means that prototyping can be very quick.\n",
        "\n",
        "python can be treated in a procedural way,an object-oriented way or a functional way.\n",
        "\n",
        "\n",
        "\n",
        "\n",
        "\n",
        "\n",
        "\n",
        "\n",
        "PRINT SYNTAX\n",
        "\n",
        "we use it for display or show the output.\n"
      ],
      "metadata": {
        "id": "2zKn_KSdc4TS"
      }
    },
    {
      "cell_type": "code",
      "source": [
        "print(42.5)"
      ],
      "metadata": {
        "colab": {
          "base_uri": "https://localhost:8080/"
        },
        "id": "R0Qg0jc_lSOa",
        "outputId": "4f4b2d26-2e7f-499b-e61f-e52820b1411c"
      },
      "execution_count": null,
      "outputs": [
        {
          "output_type": "stream",
          "name": "stdout",
          "text": [
            "42.5\n"
          ]
        }
      ]
    },
    {
      "cell_type": "code",
      "source": [
        "print(\"arjun\")"
      ],
      "metadata": {
        "colab": {
          "base_uri": "https://localhost:8080/"
        },
        "id": "MhV6Z5dIlNi_",
        "outputId": "289789ef-ebe2-49c8-d0b6-c66c02f35d56"
      },
      "execution_count": null,
      "outputs": [
        {
          "output_type": "stream",
          "name": "stdout",
          "text": [
            "arjun\n"
          ]
        }
      ]
    },
    {
      "cell_type": "markdown",
      "source": [],
      "metadata": {
        "id": "xWm2VFg6n8a_"
      }
    },
    {
      "cell_type": "markdown",
      "source": [
        "NUMERIC= int (42)\n",
        "\n",
        "POINT= float(45.5)\n",
        "\n",
        "NAME= string(arjun)\n"
      ],
      "metadata": {
        "id": "DZm09GsOoHQ7"
      }
    },
    {
      "cell_type": "code",
      "source": [],
      "metadata": {
        "id": "UjVioLcHlIHA"
      },
      "execution_count": null,
      "outputs": []
    },
    {
      "cell_type": "markdown",
      "source": [
        "**VARIABLES**\n",
        "\n",
        "Variables are containers for storing data values\n",
        "\n",
        "**CREATING VARIABLES**\n",
        "\n",
        " Python has no command for declaring a variable.\n",
        "\n",
        " A variable is created the moment you first assign a value to it.\n",
        "\n",
        " EXAMBLE\n",
        "\n"
      ],
      "metadata": {
        "id": "93Pi-NIcoErt"
      }
    },
    {
      "cell_type": "code",
      "source": [
        "x=5\n",
        "y=\"John\"\n",
        "print(x)\n",
        "print(y)"
      ],
      "metadata": {
        "colab": {
          "base_uri": "https://localhost:8080/"
        },
        "id": "bmzvhOFJpaXD",
        "outputId": "805719ec-628e-42d5-e084-f5670f613bc4"
      },
      "execution_count": null,
      "outputs": [
        {
          "output_type": "stream",
          "name": "stdout",
          "text": [
            "5\n",
            "John\n"
          ]
        }
      ]
    },
    {
      "cell_type": "code",
      "source": [
        "x=2.5\n",
        "y=\"fayis\"\n",
        "print(x)\n",
        "print(y)"
      ],
      "metadata": {
        "colab": {
          "base_uri": "https://localhost:8080/"
        },
        "id": "Hu2vF1IwqpDj",
        "outputId": "b30e7139-0d3c-4ef7-f144-d4598b7d1823"
      },
      "execution_count": null,
      "outputs": [
        {
          "output_type": "stream",
          "name": "stdout",
          "text": [
            "2.5\n",
            "fayis\n"
          ]
        }
      ]
    },
    {
      "cell_type": "code",
      "source": [
        "name=\"shahal\"\n",
        "age=20\n",
        "print(name)\n",
        "print(age)"
      ],
      "metadata": {
        "colab": {
          "base_uri": "https://localhost:8080/"
        },
        "id": "1XwhIXq-rP14",
        "outputId": "6aec1805-5ea0-4427-86c1-9023a2cfdee6"
      },
      "execution_count": null,
      "outputs": [
        {
          "output_type": "stream",
          "name": "stdout",
          "text": [
            "shahal\n",
            "20\n"
          ]
        }
      ]
    },
    {
      "cell_type": "code",
      "source": [
        "_name=\"_arjun\"\n",
        "age=21\n",
        "print(_name)\n",
        "print(age)"
      ],
      "metadata": {
        "colab": {
          "base_uri": "https://localhost:8080/"
        },
        "id": "xaYFldH7sjYS",
        "outputId": "522aa63a-8717-4d04-ab40-7e721bdf697c"
      },
      "execution_count": null,
      "outputs": [
        {
          "output_type": "stream",
          "name": "stdout",
          "text": [
            "_arjun\n",
            "21\n"
          ]
        }
      ]
    },
    {
      "cell_type": "code",
      "source": [
        "a=2.3\n",
        "b=\"fayis\"\n",
        "print(a)\n",
        "print(b)"
      ],
      "metadata": {
        "colab": {
          "base_uri": "https://localhost:8080/"
        },
        "id": "iM92cKGctsyc",
        "outputId": "f1acad94-65f8-4ec9-acfd-2b29b050cd03"
      },
      "execution_count": null,
      "outputs": [
        {
          "output_type": "stream",
          "name": "stdout",
          "text": [
            "2.3\n",
            "fayis\n"
          ]
        }
      ]
    },
    {
      "cell_type": "code",
      "source": [
        "a1=15\n",
        "a2='apple'\n",
        "print(a1)\n",
        "print(a2)"
      ],
      "metadata": {
        "id": "OPcocyzVu-M6",
        "colab": {
          "base_uri": "https://localhost:8080/"
        },
        "outputId": "e9327c50-1efa-4379-a6f5-d0aa243d1645"
      },
      "execution_count": null,
      "outputs": [
        {
          "output_type": "stream",
          "name": "stdout",
          "text": [
            "15\n",
            "apple\n"
          ]
        }
      ]
    },
    {
      "cell_type": "markdown",
      "source": [],
      "metadata": {
        "id": "rEbNW_Hdz3sm"
      }
    },
    {
      "cell_type": "code",
      "source": [
        "python follows automatic memmory managemnet\n",
        "\n",
        "EXAMPLE\n"
      ],
      "metadata": {
        "id": "5B4ehhA1zpKZ"
      },
      "execution_count": null,
      "outputs": []
    },
    {
      "cell_type": "code",
      "source": [
        "x=12\n",
        "x=15\n",
        "print(x)\n",
        "print(x)"
      ],
      "metadata": {
        "colab": {
          "base_uri": "https://localhost:8080/"
        },
        "id": "4YvEVj0E0G0M",
        "outputId": "a0caae58-bb0e-415a-a54c-b65d74b21439"
      },
      "execution_count": null,
      "outputs": [
        {
          "output_type": "stream",
          "name": "stdout",
          "text": [
            "15\n",
            "15\n"
          ]
        }
      ]
    },
    {
      "cell_type": "code",
      "source": [
        "name=\"shahal\"\n",
        "name=\"fayis\"\n",
        "print(name)\n",
        "print(name)"
      ],
      "metadata": {
        "colab": {
          "base_uri": "https://localhost:8080/"
        },
        "id": "HD3KLwbE0Vam",
        "outputId": "63a88f1c-b888-49b6-b72d-074d0748578b"
      },
      "execution_count": null,
      "outputs": [
        {
          "output_type": "stream",
          "name": "stdout",
          "text": [
            "fayis\n",
            "fayis\n"
          ]
        }
      ]
    },
    {
      "cell_type": "code",
      "source": [
        "a1=15\n",
        "a1='fayis'\n",
        "print(a1)"
      ],
      "metadata": {
        "colab": {
          "base_uri": "https://localhost:8080/"
        },
        "id": "7unnAPfe0pi7",
        "outputId": "65aa8340-5032-45aa-ca1f-ca4d4b6a7690"
      },
      "execution_count": null,
      "outputs": [
        {
          "output_type": "stream",
          "name": "stdout",
          "text": [
            "fayis\n"
          ]
        }
      ]
    },
    {
      "cell_type": "code",
      "source": [
        "XX=10\n",
        "XX=12.5\n",
        "print(XX)\n",
        "print(XX)"
      ],
      "metadata": {
        "colab": {
          "base_uri": "https://localhost:8080/"
        },
        "id": "CupFDgSW08kK",
        "outputId": "dc659367-bc14-492b-f749-c9f1c3c486c3"
      },
      "execution_count": null,
      "outputs": [
        {
          "output_type": "stream",
          "name": "stdout",
          "text": [
            "12.5\n",
            "12.5\n"
          ]
        }
      ]
    },
    {
      "cell_type": "code",
      "source": [
        "age=21\n",
        "age=23\n",
        "print(age)"
      ],
      "metadata": {
        "colab": {
          "base_uri": "https://localhost:8080/"
        },
        "id": "BP2HRgCV1Tfe",
        "outputId": "52634899-49dc-43e9-f592-e5258bf141ea"
      },
      "execution_count": null,
      "outputs": [
        {
          "output_type": "stream",
          "name": "stdout",
          "text": [
            "23\n"
          ]
        }
      ]
    },
    {
      "cell_type": "code",
      "source": [
        "myvar=\"john\"\n",
        "my_var=\"john\"\n",
        "_my_var=\"john\"\n",
        "\n",
        "myVar=\"john\"\n",
        "MYVAR=\"john\"\n",
        "myvar2\"john\"\n",
        "\n",
        "\n",
        "illegal variable names\n",
        "\n",
        "2myvar=\"john\"\n",
        "my-var=\"john\"\n"
      ],
      "metadata": {
        "id": "JZfEgtzk1qz1"
      },
      "execution_count": null,
      "outputs": []
    },
    {
      "cell_type": "markdown",
      "source": [
        "Python is key sencitive;\n",
        "\n",
        "EXAMPLE\n",
        "\n",
        "**'NAME' and 'name' are considered different**"
      ],
      "metadata": {
        "id": "1yq_DrTr6ZJ1"
      }
    },
    {
      "cell_type": "markdown",
      "source": [],
      "metadata": {
        "id": "9nHlVZGY514W"
      }
    }
  ]
}