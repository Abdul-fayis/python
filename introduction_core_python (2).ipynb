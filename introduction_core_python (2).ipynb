{
  "nbformat": 4,
  "nbformat_minor": 0,
  "metadata": {
    "colab": {
      "provenance": []
    },
    "kernelspec": {
      "name": "python3",
      "display_name": "Python 3"
    },
    "language_info": {
      "name": "python"
    }
  },
  "cells": [
    {
      "cell_type": "markdown",
      "source": [
        "# **python**"
      ],
      "metadata": {
        "id": "HH2omd1Fcrdv"
      }
    },
    {
      "cell_type": "code",
      "execution_count": null,
      "metadata": {
        "id": "vCtHtDypbq3s"
      },
      "outputs": [],
      "source": [
        "#python is a popular programming lamguage\n",
        "#python can be used on a server to create web applications"
      ]
    },
    {
      "cell_type": "markdown",
      "source": [],
      "metadata": {
        "id": "rLQ_o_t6nlab"
      }
    },
    {
      "cell_type": "markdown",
      "source": [],
      "metadata": {
        "id": "J1_8xV2vnp-q"
      }
    },
    {
      "cell_type": "markdown",
      "source": [],
      "metadata": {
        "id": "0L5lxbZZnsWo"
      }
    },
    {
      "cell_type": "markdown",
      "source": [],
      "metadata": {
        "id": "CPiLIYQcntww"
      }
    },
    {
      "cell_type": "markdown",
      "source": [],
      "metadata": {
        "id": "E4w31-2ndQOc"
      }
    },
    {
      "cell_type": "code",
      "source": [],
      "metadata": {
        "id": "qTkKWLWalFN7"
      },
      "execution_count": null,
      "outputs": []
    },
    {
      "cell_type": "markdown",
      "source": [
        "\n",
        "\n",
        "# **PYTHON**\n",
        "\n",
        ".python is a popular programming langhuage.\n",
        "\n",
        ".python can be used on a server to create web application.\n",
        "\n",
        ".python can be used to handle big data and perform complex mathematics.\n",
        "\n",
        ".python can be used for rapid prototyping,or for production-ready software developement.\n",
        "\n",
        ".python works on different platforms(windows,mac,linux,raspberry pi,etc).\n",
        "\n",
        ".python has a simple syntax similar to the english languages.\n",
        "\n",
        ".python runs on an interpreter system,meaning that code **can** be executed as soon as it is written.this means that prototyping can be very quick.\n",
        "\n",
        ".python can be treated in a procedural way,an object-oriented way or a functional way.\n",
        "\n",
        "\n",
        "\n",
        "\n",
        "\n",
        "\n",
        "\n",
        "\n",
        "\n",
        "**PRINT SYNTAX**\n",
        "\n",
        "we use it for display or show the output.\n"
      ],
      "metadata": {
        "id": "2zKn_KSdc4TS"
      }
    },
    {
      "cell_type": "code",
      "source": [
        "print(42.5)"
      ],
      "metadata": {
        "colab": {
          "base_uri": "https://localhost:8080/"
        },
        "id": "R0Qg0jc_lSOa",
        "outputId": "4f4b2d26-2e7f-499b-e61f-e52820b1411c"
      },
      "execution_count": null,
      "outputs": [
        {
          "output_type": "stream",
          "name": "stdout",
          "text": [
            "42.5\n"
          ]
        }
      ]
    },
    {
      "cell_type": "code",
      "source": [
        "print(\"arjun\")"
      ],
      "metadata": {
        "colab": {
          "base_uri": "https://localhost:8080/"
        },
        "id": "MhV6Z5dIlNi_",
        "outputId": "289789ef-ebe2-49c8-d0b6-c66c02f35d56"
      },
      "execution_count": null,
      "outputs": [
        {
          "output_type": "stream",
          "name": "stdout",
          "text": [
            "arjun\n"
          ]
        }
      ]
    },
    {
      "cell_type": "markdown",
      "source": [],
      "metadata": {
        "id": "xWm2VFg6n8a_"
      }
    },
    {
      "cell_type": "markdown",
      "source": [
        "**NUMERIC = int (42)**\n",
        "\n",
        "**POINT = float(45.5**)\n",
        "\n",
        "**NAME = string(arjun)**\n"
      ],
      "metadata": {
        "id": "DZm09GsOoHQ7"
      }
    },
    {
      "cell_type": "code",
      "source": [],
      "metadata": {
        "id": "UjVioLcHlIHA"
      },
      "execution_count": null,
      "outputs": []
    },
    {
      "cell_type": "markdown",
      "source": [
        "# **VARIABLES**\n",
        "\n",
        "Variables are containers for storing data values\n",
        "\n",
        "# **CREATING VARIABLES**\n",
        "\n",
        " Python has no command for declaring a variable.\n",
        "\n",
        " A variable is created the moment you first assign a value to it.\n",
        "\n",
        "**EXAMBLE**\n",
        "\n"
      ],
      "metadata": {
        "id": "93Pi-NIcoErt"
      }
    },
    {
      "cell_type": "code",
      "source": [
        "x=5\n",
        "y=\"John\"\n",
        "print(x)\n",
        "print(y)"
      ],
      "metadata": {
        "colab": {
          "base_uri": "https://localhost:8080/"
        },
        "id": "bmzvhOFJpaXD",
        "outputId": "805719ec-628e-42d5-e084-f5670f613bc4"
      },
      "execution_count": null,
      "outputs": [
        {
          "output_type": "stream",
          "name": "stdout",
          "text": [
            "5\n",
            "John\n"
          ]
        }
      ]
    },
    {
      "cell_type": "code",
      "source": [
        "x=2.5\n",
        "y=\"fayis\"\n",
        "print(x)\n",
        "print(y)"
      ],
      "metadata": {
        "colab": {
          "base_uri": "https://localhost:8080/"
        },
        "id": "Hu2vF1IwqpDj",
        "outputId": "b30e7139-0d3c-4ef7-f144-d4598b7d1823"
      },
      "execution_count": null,
      "outputs": [
        {
          "output_type": "stream",
          "name": "stdout",
          "text": [
            "2.5\n",
            "fayis\n"
          ]
        }
      ]
    },
    {
      "cell_type": "code",
      "source": [
        "name=\"shahal\"\n",
        "age=20\n",
        "print(name)\n",
        "print(age)"
      ],
      "metadata": {
        "colab": {
          "base_uri": "https://localhost:8080/"
        },
        "id": "1XwhIXq-rP14",
        "outputId": "6aec1805-5ea0-4427-86c1-9023a2cfdee6"
      },
      "execution_count": null,
      "outputs": [
        {
          "output_type": "stream",
          "name": "stdout",
          "text": [
            "shahal\n",
            "20\n"
          ]
        }
      ]
    },
    {
      "cell_type": "code",
      "source": [
        "_name=\"_arjun\"\n",
        "age=21\n",
        "print(_name)\n",
        "print(age)"
      ],
      "metadata": {
        "colab": {
          "base_uri": "https://localhost:8080/"
        },
        "id": "xaYFldH7sjYS",
        "outputId": "522aa63a-8717-4d04-ab40-7e721bdf697c"
      },
      "execution_count": null,
      "outputs": [
        {
          "output_type": "stream",
          "name": "stdout",
          "text": [
            "_arjun\n",
            "21\n"
          ]
        }
      ]
    },
    {
      "cell_type": "code",
      "source": [
        "a=2.3\n",
        "b=\"fayis\"\n",
        "print(a)\n",
        "print(b)"
      ],
      "metadata": {
        "colab": {
          "base_uri": "https://localhost:8080/"
        },
        "id": "iM92cKGctsyc",
        "outputId": "f1acad94-65f8-4ec9-acfd-2b29b050cd03"
      },
      "execution_count": null,
      "outputs": [
        {
          "output_type": "stream",
          "name": "stdout",
          "text": [
            "2.3\n",
            "fayis\n"
          ]
        }
      ]
    },
    {
      "cell_type": "code",
      "source": [
        "a1=15\n",
        "a2='apple'\n",
        "print(a1)\n",
        "print(a2)"
      ],
      "metadata": {
        "id": "OPcocyzVu-M6",
        "colab": {
          "base_uri": "https://localhost:8080/"
        },
        "outputId": "e9327c50-1efa-4379-a6f5-d0aa243d1645"
      },
      "execution_count": null,
      "outputs": [
        {
          "output_type": "stream",
          "name": "stdout",
          "text": [
            "15\n",
            "apple\n"
          ]
        }
      ]
    },
    {
      "cell_type": "markdown",
      "source": [],
      "metadata": {
        "id": "nQ3KqIM-8zYf"
      }
    },
    {
      "cell_type": "markdown",
      "source": [],
      "metadata": {
        "id": "rEbNW_Hdz3sm"
      }
    },
    {
      "cell_type": "markdown",
      "source": [
        "# python follows automatic memory management\n",
        "\n",
        "**EXAMPLE**:"
      ],
      "metadata": {
        "id": "hGpXfGQWK4TJ"
      }
    },
    {
      "cell_type": "markdown",
      "source": [],
      "metadata": {
        "id": "rBqqU1U8KHPY"
      }
    },
    {
      "cell_type": "code",
      "source": [
        "x=12\n",
        "x=15\n",
        "print(x)\n",
        "print(x)"
      ],
      "metadata": {
        "colab": {
          "base_uri": "https://localhost:8080/"
        },
        "id": "4YvEVj0E0G0M",
        "outputId": "a0caae58-bb0e-415a-a54c-b65d74b21439"
      },
      "execution_count": null,
      "outputs": [
        {
          "output_type": "stream",
          "name": "stdout",
          "text": [
            "15\n",
            "15\n"
          ]
        }
      ]
    },
    {
      "cell_type": "code",
      "source": [
        "name=\"shahal\"\n",
        "name=\"fayis\"\n",
        "print(name)\n",
        "print(name)"
      ],
      "metadata": {
        "colab": {
          "base_uri": "https://localhost:8080/"
        },
        "id": "HD3KLwbE0Vam",
        "outputId": "63a88f1c-b888-49b6-b72d-074d0748578b"
      },
      "execution_count": null,
      "outputs": [
        {
          "output_type": "stream",
          "name": "stdout",
          "text": [
            "fayis\n",
            "fayis\n"
          ]
        }
      ]
    },
    {
      "cell_type": "code",
      "source": [
        "a1=15\n",
        "a1='fayis'\n",
        "print(a1)"
      ],
      "metadata": {
        "colab": {
          "base_uri": "https://localhost:8080/"
        },
        "id": "7unnAPfe0pi7",
        "outputId": "65aa8340-5032-45aa-ca1f-ca4d4b6a7690"
      },
      "execution_count": null,
      "outputs": [
        {
          "output_type": "stream",
          "name": "stdout",
          "text": [
            "fayis\n"
          ]
        }
      ]
    },
    {
      "cell_type": "code",
      "source": [
        "XX=10\n",
        "XX=12.5\n",
        "print(XX)\n",
        "print(XX)"
      ],
      "metadata": {
        "colab": {
          "base_uri": "https://localhost:8080/"
        },
        "id": "CupFDgSW08kK",
        "outputId": "dc659367-bc14-492b-f749-c9f1c3c486c3"
      },
      "execution_count": null,
      "outputs": [
        {
          "output_type": "stream",
          "name": "stdout",
          "text": [
            "12.5\n",
            "12.5\n"
          ]
        }
      ]
    },
    {
      "cell_type": "code",
      "source": [
        "age=21\n",
        "age=23\n",
        "print(age)"
      ],
      "metadata": {
        "colab": {
          "base_uri": "https://localhost:8080/"
        },
        "id": "BP2HRgCV1Tfe",
        "outputId": "52634899-49dc-43e9-f592-e5258bf141ea"
      },
      "execution_count": null,
      "outputs": [
        {
          "output_type": "stream",
          "name": "stdout",
          "text": [
            "23\n"
          ]
        }
      ]
    },
    {
      "cell_type": "code",
      "source": [
        "myvar=\"john\"\n",
        "my_var=\"john\"\n",
        "_my_var=\"john\"\n",
        "\n",
        "myVar=\"john\"\n",
        "MYVAR=\"john\"\n",
        "myvar2\"john\"\n",
        "\n",
        "\n",
        "illegal variable names\n",
        "\n",
        "2myvar=\"john\"\n",
        "my-var=\"john\"\n"
      ],
      "metadata": {
        "id": "JZfEgtzk1qz1"
      },
      "execution_count": null,
      "outputs": []
    },
    {
      "cell_type": "markdown",
      "source": [
        "  **Python is key sencitive;**\n",
        "\n",
        "Example :\n",
        "  **'NAME' and 'name' are considered different**"
      ],
      "metadata": {
        "id": "1yq_DrTr6ZJ1"
      }
    },
    {
      "cell_type": "markdown",
      "source": [
        "# **PYTHON COMMENTS**\n",
        "\n",
        "Pythons has commenting capability for the purpose of in-code documentation.\n",
        "\n",
        "comments start with a #,and python will render the rest of the line as a comment:"
      ],
      "metadata": {
        "id": "-3WqcYZQrgp7"
      }
    },
    {
      "cell_type": "code",
      "source": [
        "#this is a comment,\n",
        "print(\"hello, world!\")\n",
        "#first line is a comment\n",
        "#second one is not a comment,so itms run and print the output"
      ],
      "metadata": {
        "colab": {
          "base_uri": "https://localhost:8080/"
        },
        "id": "SGFssqj9sBsi",
        "outputId": "126b8a34-700e-4db1-cfad-1efcb3a2a8ec"
      },
      "execution_count": null,
      "outputs": [
        {
          "output_type": "stream",
          "name": "stdout",
          "text": [
            "hello, world!\n"
          ]
        }
      ]
    },
    {
      "cell_type": "code",
      "source": [
        "#print(\"fayis\") #this is a comment"
      ],
      "metadata": {
        "id": "MHI3OpWPs0As"
      },
      "execution_count": null,
      "outputs": []
    },
    {
      "cell_type": "code",
      "source": [
        "#x=12\n",
        "#y=13\n",
        "#print(x)\n",
        "#print(y)"
      ],
      "metadata": {
        "id": "ql2WEYBVtREK"
      },
      "execution_count": null,
      "outputs": []
    },
    {
      "cell_type": "markdown",
      "source": [
        "comments can be used to explain python code.\n",
        "\n",
        "comments can be used to make to make the code more readable.\n",
        "\n",
        "comments can be used to prevent execution when testing code.\n",
        "\n",
        "comments starts with a #,and python will ignore them:\n",
        "\n",
        "\n",
        "comments can be placed at the end of a line, and python will ignore the rest of the line:\n",
        "\n",
        "A comment does not have to be text that explains the code, it can also be used to prevent python from executing code:\n"
      ],
      "metadata": {
        "id": "2Z-dPZDGuaAA"
      }
    },
    {
      "cell_type": "markdown",
      "source": [],
      "metadata": {
        "id": "9nHlVZGY514W"
      }
    },
    {
      "cell_type": "markdown",
      "source": [
        "# **Multiline comments**\n",
        "\n",
        "Python does not really have a syntax for multiline comments.\n",
        "\n",
        "To add a multiline comment you could insert a # for each line."
      ],
      "metadata": {
        "id": "jdGxMqz_OkB_"
      }
    },
    {
      "cell_type": "code",
      "source": [
        "#this is a comment\n",
        "#written in\n",
        "#more than just one line\n",
        "print(\"hello, world!\")"
      ],
      "metadata": {
        "colab": {
          "base_uri": "https://localhost:8080/"
        },
        "id": "xEsIMLx4PBRb",
        "outputId": "2fb83fb7-4c75-4d90-96e7-23628eb78a79"
      },
      "execution_count": null,
      "outputs": [
        {
          "output_type": "stream",
          "name": "stdout",
          "text": [
            "hello, world!\n"
          ]
        }
      ]
    },
    {
      "cell_type": "code",
      "source": [],
      "metadata": {
        "id": "C2Yx5ozePQnn"
      },
      "execution_count": null,
      "outputs": []
    },
    {
      "cell_type": "markdown",
      "source": [
        "OR, not quite as intended,you can use a multiline string.\n",
        "\n",
        "since python will ignore string literals that are not assigned to a variable,\n",
        "\n",
        "you can add a multilie string(triple quotes)in your code, and place your comment inside it:\n",
        "\n"
      ],
      "metadata": {
        "id": "uVWkxAQnPjOC"
      }
    },
    {
      "cell_type": "code",
      "source": [
        "\"\"\"\n",
        "hai my friend\n",
        "\"\"\"\n",
        "print(\"hai my friend\")"
      ],
      "metadata": {
        "colab": {
          "base_uri": "https://localhost:8080/"
        },
        "id": "04A5SeIXQNJX",
        "outputId": "22479fa8-ec92-45b8-963d-01650dac2ba4"
      },
      "execution_count": null,
      "outputs": [
        {
          "output_type": "stream",
          "name": "stdout",
          "text": [
            "hai my friend\n"
          ]
        }
      ]
    },
    {
      "cell_type": "code",
      "source": [
        "'''\n",
        "hello\n",
        "'''\n",
        "print ('hello')"
      ],
      "metadata": {
        "colab": {
          "base_uri": "https://localhost:8080/"
        },
        "id": "YyBFp-o5QWNx",
        "outputId": "f908553a-7bf6-4f1b-ecbc-a75a19dcde6d"
      },
      "execution_count": null,
      "outputs": [
        {
          "output_type": "stream",
          "name": "stdout",
          "text": [
            "hello\n"
          ]
        }
      ]
    },
    {
      "cell_type": "markdown",
      "source": [
        "# **INDENTATION TOOL**\n",
        "\n",
        "Indentation refers to the spaces at the beggining of a code line.\n",
        "\n",
        "where in other programming langhyages the indentation in code is for\n",
        "readability only, the indentation in python is very important.\n",
        "\n",
        "python uses indentation tobindicate a block of code.\n",
        "\n",
        "\n"
      ],
      "metadata": {
        "id": "R5mjbJP4R14Z"
      }
    },
    {
      "cell_type": "code",
      "source": [
        "if 5 > 2:\n",
        "  print(\"five is greater than two\")"
      ],
      "metadata": {
        "colab": {
          "base_uri": "https://localhost:8080/"
        },
        "id": "XR7czy07ws6U",
        "outputId": "5902f2b7-53c9-450f-bc53-e9402cb6ac9e"
      },
      "execution_count": null,
      "outputs": [
        {
          "output_type": "stream",
          "name": "stdout",
          "text": [
            "five is greater than two\n"
          ]
        }
      ]
    },
    {
      "cell_type": "code",
      "source": [
        "if 5 > 2:\n",
        "print(\"five is greater than two\")"
      ],
      "metadata": {
        "colab": {
          "base_uri": "https://localhost:8080/",
          "height": 106
        },
        "id": "iwl9CVcFw7Sb",
        "outputId": "529df2b2-0b03-4f1e-9475-f59b9d9efdb7"
      },
      "execution_count": null,
      "outputs": [
        {
          "output_type": "error",
          "ename": "IndentationError",
          "evalue": "expected an indented block after 'if' statement on line 1 (<ipython-input-3-7610f775a4a9>, line 2)",
          "traceback": [
            "\u001b[0;36m  File \u001b[0;32m\"<ipython-input-3-7610f775a4a9>\"\u001b[0;36m, line \u001b[0;32m2\u001b[0m\n\u001b[0;31m    print(\"five is greater than two\")\u001b[0m\n\u001b[0m    ^\u001b[0m\n\u001b[0;31mIndentationError\u001b[0m\u001b[0;31m:\u001b[0m expected an indented block after 'if' statement on line 1\n"
          ]
        }
      ]
    },
    {
      "cell_type": "code",
      "source": [],
      "metadata": {
        "id": "YxcE8qEJxJpb"
      },
      "execution_count": null,
      "outputs": []
    },
    {
      "cell_type": "markdown",
      "source": [
        "python will give you an error if you skip the indentation:\n",
        "\n",
        "the number of spaces is up to you as a programmer, the most common use is four, but it has to be at least one."
      ],
      "metadata": {
        "id": "wHvLRaGdxatt"
      }
    },
    {
      "cell_type": "code",
      "source": [],
      "metadata": {
        "id": "6Xl9GVa2zbkk"
      },
      "execution_count": null,
      "outputs": []
    },
    {
      "cell_type": "markdown",
      "source": [
        "\n",
        "\n",
        "**IMP: if condition will give output only when the condition is ture**\n",
        "\n",
        "\n",
        "example:"
      ],
      "metadata": {
        "id": "rAlxTS7I1XjE"
      }
    },
    {
      "cell_type": "code",
      "source": [
        "if 2<10:\n",
        " print(\"2 is less than ten\")"
      ],
      "metadata": {
        "colab": {
          "base_uri": "https://localhost:8080/"
        },
        "id": "XhFat1vszo0w",
        "outputId": "a672c0f7-3557-49a5-b24e-3d6eba259502"
      },
      "execution_count": null,
      "outputs": [
        {
          "output_type": "stream",
          "name": "stdout",
          "text": [
            "2 is less than ten\n"
          ]
        }
      ]
    },
    {
      "cell_type": "code",
      "source": [
        "if 10<2:\n",
        "  print(\"10 is less than two\")\n"
      ],
      "metadata": {
        "id": "-NLbA8-L0EnI"
      },
      "execution_count": null,
      "outputs": []
    },
    {
      "cell_type": "code",
      "source": [
        "if 10>2:\n",
        "  print('10 is greater than two')"
      ],
      "metadata": {
        "colab": {
          "base_uri": "https://localhost:8080/"
        },
        "id": "tHLQU_ok0WZ9",
        "outputId": "a2ce018d-d1cb-4422-b652-85bd3b996bf1"
      },
      "execution_count": null,
      "outputs": [
        {
          "output_type": "stream",
          "name": "stdout",
          "text": [
            "10 is greater than two\n"
          ]
        }
      ]
    },
    {
      "cell_type": "code",
      "source": [
        "if 10==2:\n",
        "  print (\"10 is equal to two\")"
      ],
      "metadata": {
        "id": "OjV6XSwb0fDW"
      },
      "execution_count": null,
      "outputs": []
    },
    {
      "cell_type": "code",
      "source": [
        "if 10<2:\n",
        "  print('10 is greater than two')"
      ],
      "metadata": {
        "id": "6A85FaOK0sJ9"
      },
      "execution_count": null,
      "outputs": []
    },
    {
      "cell_type": "markdown",
      "source": [],
      "metadata": {
        "id": "AB1Akf831NlC"
      }
    },
    {
      "cell_type": "markdown",
      "source": [
        "# MULTI WORDS VARIABLE NAMES\n",
        "\n",
        "variable nmes with more than one word can be difficult to read,\n",
        "\n",
        "there are several techniques you can use to make them more readable:\n",
        "\n",
        "\n",
        "#1. **CAMEL CASE**\n",
        "\n",
        "Each word, except the first, starts with a capital letter:"
      ],
      "metadata": {
        "id": "QHA2c0-i3Q53"
      }
    },
    {
      "cell_type": "code",
      "source": [
        "myVariableName= \"jonh\"\n"
      ],
      "metadata": {
        "id": "R6_gSkVn37iw"
      },
      "execution_count": null,
      "outputs": []
    },
    {
      "cell_type": "markdown",
      "source": [
        "#2. **PASCAL CASE**\n",
        "\n",
        "each word starts with a capital letter:"
      ],
      "metadata": {
        "id": "8ETcQNMQ4L8t"
      }
    },
    {
      "cell_type": "code",
      "source": [
        "MyVariableName= \"john\"\n"
      ],
      "metadata": {
        "id": "tuKLs5vS4XRu"
      },
      "execution_count": null,
      "outputs": []
    },
    {
      "cell_type": "markdown",
      "source": [
        "#3. **SNAKE CASE**\n",
        "\n",
        "each word is separated by by an underscore character:"
      ],
      "metadata": {
        "id": "TPUV8z_k4jd0"
      }
    },
    {
      "cell_type": "code",
      "source": [
        "my_variable_name= \"john\""
      ],
      "metadata": {
        "id": "8pmAc1ev4wH9"
      },
      "execution_count": null,
      "outputs": []
    },
    {
      "cell_type": "markdown",
      "source": [],
      "metadata": {
        "id": "EJuG5Fiy3Myd"
      }
    },
    {
      "cell_type": "markdown",
      "source": [
        "**MANY VALUES TO MULTIPLE VARIABLES**\n",
        "\n",
        "Python allows you to assign values to multiple variables in one line:"
      ],
      "metadata": {
        "id": "NdY3yhUq6EuK"
      }
    },
    {
      "cell_type": "code",
      "source": [
        "x,y,z = \"orange\",\"banana\",\"cherry\"\n",
        "print(x)\n",
        "print(y)\n",
        "print(z)\n"
      ],
      "metadata": {
        "colab": {
          "base_uri": "https://localhost:8080/"
        },
        "id": "x-h-VmZC6WKG",
        "outputId": "e55c916a-e586-4bfd-e85f-8f99ce41068d"
      },
      "execution_count": null,
      "outputs": [
        {
          "output_type": "stream",
          "name": "stdout",
          "text": [
            "orange\n",
            "banana\n",
            "cherry\n"
          ]
        }
      ]
    },
    {
      "cell_type": "markdown",
      "source": [],
      "metadata": {
        "id": "39d1Tv1Q1Ni7"
      }
    },
    {
      "cell_type": "code",
      "source": [],
      "metadata": {
        "id": "4YiO6Evw87QU"
      },
      "execution_count": null,
      "outputs": []
    },
    {
      "cell_type": "markdown",
      "source": [
        "**ONE VALUE TO MULTIPLE VARIABLES**\n",
        "\n",
        "And you can assign the same value to multiple variables in one line:\n",
        "\n",
        "\n",
        "**EXAMPLE:**"
      ],
      "metadata": {
        "id": "xsQvHBvc8ORl"
      }
    },
    {
      "cell_type": "code",
      "source": [
        "x = y = z =\"orange\"\n",
        "print(x)\n",
        "print(y)\n",
        "print(z)"
      ],
      "metadata": {
        "colab": {
          "base_uri": "https://localhost:8080/"
        },
        "id": "8wgV1c7n8hKO",
        "outputId": "dc9aee64-29ab-4da4-edfd-c8b45bd5ff6e"
      },
      "execution_count": null,
      "outputs": [
        {
          "output_type": "stream",
          "name": "stdout",
          "text": [
            "orange\n",
            "orange\n",
            "orange\n"
          ]
        }
      ]
    },
    {
      "cell_type": "markdown",
      "source": [
        "\n",
        "\n",
        "# UNPACK A COLLECTION\n",
        "\n",
        " If you have a collection of valuues in a list, tuple etc. python allows you to extract the values into variables.This is called unpacking.\n",
        "\n",
        " EXAMPLE\n",
        "\n",
        " Unpack a list:\n"
      ],
      "metadata": {
        "id": "VJfWI0JR9yUb"
      }
    },
    {
      "cell_type": "code",
      "source": [
        "fruits = [\"apple\",\"banana\",\"cherry\"]\n",
        "x,y,z = fruits\n",
        "print(x)\n",
        "print(y)\n",
        "print(z)"
      ],
      "metadata": {
        "colab": {
          "base_uri": "https://localhost:8080/"
        },
        "id": "FdYzqTgX8wEk",
        "outputId": "a1127536-bba1-47e5-fced-efe2b554e96f"
      },
      "execution_count": null,
      "outputs": [
        {
          "output_type": "stream",
          "name": "stdout",
          "text": [
            "apple\n",
            "banana\n",
            "cherry\n"
          ]
        }
      ]
    },
    {
      "cell_type": "code",
      "source": [],
      "metadata": {
        "id": "iEm7wtyr-mof"
      },
      "execution_count": null,
      "outputs": []
    },
    {
      "cell_type": "markdown",
      "source": [
        "\n",
        "\n",
        "# GET THE TYPE\n",
        "\n",
        "You can get the data type of a value a variable with the type() function.\n"
      ],
      "metadata": {
        "id": "hqBpiUPVA7G4"
      }
    },
    {
      "cell_type": "code",
      "source": [
        "a = 5\n",
        "print(type(a))"
      ],
      "metadata": {
        "colab": {
          "base_uri": "https://localhost:8080/"
        },
        "id": "l6y2YtfTBR86",
        "outputId": "2d391c30-7218-4614-a007-6c51f2eb4b4e"
      },
      "execution_count": null,
      "outputs": [
        {
          "output_type": "stream",
          "name": "stdout",
          "text": [
            "<class 'int'>\n"
          ]
        }
      ]
    },
    {
      "cell_type": "code",
      "source": [
        "a = 5.8\n",
        "print(type(a))"
      ],
      "metadata": {
        "colab": {
          "base_uri": "https://localhost:8080/"
        },
        "id": "PBVJuLFkBZ_1",
        "outputId": "18d9608a-6fac-4f5b-d9cd-0afe506d46c2"
      },
      "execution_count": null,
      "outputs": [
        {
          "output_type": "stream",
          "name": "stdout",
          "text": [
            "<class 'float'>\n"
          ]
        }
      ]
    },
    {
      "cell_type": "code",
      "source": [
        "a= \"fayis\"\n",
        "print(type(a))"
      ],
      "metadata": {
        "colab": {
          "base_uri": "https://localhost:8080/"
        },
        "id": "etzPWbENBkao",
        "outputId": "a3d1b547-8f73-416d-aefb-1ab95ab67181"
      },
      "execution_count": null,
      "outputs": [
        {
          "output_type": "stream",
          "name": "stdout",
          "text": [
            "<class 'str'>\n"
          ]
        }
      ]
    },
    {
      "cell_type": "code",
      "source": [
        "x=5\n",
        "y='john'\n",
        "print(type(x))\n",
        "print(type(y))\n"
      ],
      "metadata": {
        "colab": {
          "base_uri": "https://localhost:8080/"
        },
        "id": "9RFJppLtBrrm",
        "outputId": "a7896636-d527-4ac6-cc9e-ed26578fada3"
      },
      "execution_count": null,
      "outputs": [
        {
          "output_type": "stream",
          "name": "stdout",
          "text": [
            "<class 'int'>\n",
            "<class 'str'>\n"
          ]
        }
      ]
    },
    {
      "cell_type": "code",
      "source": [
        "name='fayis'\n",
        "age=21\n",
        "print(type(name))\n",
        "print(type(age))"
      ],
      "metadata": {
        "colab": {
          "base_uri": "https://localhost:8080/"
        },
        "id": "Vy_jEE8pB9WV",
        "outputId": "0e43cbcc-5f2e-4e46-e040-21ff0703993b"
      },
      "execution_count": null,
      "outputs": [
        {
          "output_type": "stream",
          "name": "stdout",
          "text": [
            "<class 'str'>\n",
            "<class 'int'>\n"
          ]
        }
      ]
    },
    {
      "cell_type": "code",
      "source": [
        "y=12\n",
        "x=1.2\n",
        "print(type(y))\n",
        "print(type(x))"
      ],
      "metadata": {
        "colab": {
          "base_uri": "https://localhost:8080/"
        },
        "id": "tdg09LbPCsdX",
        "outputId": "ee9c2c30-dad9-44e1-acea-88b4d3b8686f"
      },
      "execution_count": null,
      "outputs": [
        {
          "output_type": "stream",
          "name": "stdout",
          "text": [
            "<class 'int'>\n",
            "<class 'float'>\n"
          ]
        }
      ]
    },
    {
      "cell_type": "code",
      "source": [
        "name=\"amal\"\n",
        "type(name)"
      ],
      "metadata": {
        "colab": {
          "base_uri": "https://localhost:8080/"
        },
        "id": "JD85QtckDKbg",
        "outputId": "8a3e5018-8a49-4db3-9e50-7643692e0193"
      },
      "execution_count": null,
      "outputs": [
        {
          "output_type": "execute_result",
          "data": {
            "text/plain": [
              "str"
            ]
          },
          "metadata": {},
          "execution_count": 33
        }
      ]
    },
    {
      "cell_type": "code",
      "source": [
        "age=1.5\n",
        "type(age)"
      ],
      "metadata": {
        "colab": {
          "base_uri": "https://localhost:8080/"
        },
        "id": "WBaNYyj-Dxfc",
        "outputId": "1b74fad9-9c71-4639-d322-0fd25dc699a1"
      },
      "execution_count": null,
      "outputs": [
        {
          "output_type": "execute_result",
          "data": {
            "text/plain": [
              "float"
            ]
          },
          "metadata": {},
          "execution_count": 34
        }
      ]
    },
    {
      "cell_type": "code",
      "source": [],
      "metadata": {
        "id": "hj2uVnGgD4aS"
      },
      "execution_count": null,
      "outputs": []
    },
    {
      "cell_type": "markdown",
      "source": [
        "\n",
        "**In the print() function, you output multiple variables, separated by a comma:**\n",
        "\n",
        "EXAMPLE:\n"
      ],
      "metadata": {
        "id": "nssP6_n5E2K0"
      }
    },
    {
      "cell_type": "code",
      "source": [
        "x= \"python\"\n",
        "y=  \"is\"\n",
        "z=  \"awesome\"\n",
        "print(x, y , z)\n"
      ],
      "metadata": {
        "colab": {
          "base_uri": "https://localhost:8080/"
        },
        "id": "9Ec9bllMFLf1",
        "outputId": "bf5f81ca-4130-41f2-ed5a-f00f06abdbab"
      },
      "execution_count": null,
      "outputs": [
        {
          "output_type": "stream",
          "name": "stdout",
          "text": [
            "python is awesome\n"
          ]
        }
      ]
    },
    {
      "cell_type": "code",
      "source": [
        "x= \"fayis\"\n",
        "y= \" was\"\n",
        "z= \" beautiful\"\n",
        "print(x +y +z)"
      ],
      "metadata": {
        "colab": {
          "base_uri": "https://localhost:8080/"
        },
        "id": "p-1Kr2ncFjmU",
        "outputId": "28c679c9-9297-40db-ee17-a69053c6bfa8"
      },
      "execution_count": null,
      "outputs": [
        {
          "output_type": "stream",
          "name": "stdout",
          "text": [
            "fayis was beautiful\n"
          ]
        }
      ]
    },
    {
      "cell_type": "code",
      "source": [
        "x='python'\n",
        "y='is'\n",
        "z='awesome'\n",
        "print(z, y, x)"
      ],
      "metadata": {
        "colab": {
          "base_uri": "https://localhost:8080/"
        },
        "id": "a0WzIY7uGVDI",
        "outputId": "9daa83f1-31c7-4067-b1a4-36aabe46f340"
      },
      "execution_count": null,
      "outputs": [
        {
          "output_type": "stream",
          "name": "stdout",
          "text": [
            "awesome is python\n"
          ]
        }
      ]
    },
    {
      "cell_type": "code",
      "source": [],
      "metadata": {
        "id": "vOWpG4c8HCbG"
      },
      "execution_count": null,
      "outputs": []
    },
    {
      "cell_type": "markdown",
      "source": [
        "# CASTING\n",
        "\n",
        "If you want to specify the data type of a variable, this can be done with casting.\n"
      ],
      "metadata": {
        "id": "1CC18RgsflDI"
      }
    },
    {
      "cell_type": "code",
      "source": [
        "x= str(3)\n",
        "print(x)"
      ],
      "metadata": {
        "colab": {
          "base_uri": "https://localhost:8080/"
        },
        "id": "iU4IXIMQf0pb",
        "outputId": "d62f1ca1-437e-40e5-a2e2-1de82c7c816d"
      },
      "execution_count": null,
      "outputs": [
        {
          "output_type": "stream",
          "name": "stdout",
          "text": [
            "3\n"
          ]
        }
      ]
    },
    {
      "cell_type": "code",
      "source": [
        "print(type(x))"
      ],
      "metadata": {
        "colab": {
          "base_uri": "https://localhost:8080/"
        },
        "id": "qdiVFDlff5Pv",
        "outputId": "14eb2e9c-ee18-4a6c-fc66-2498756274ec"
      },
      "execution_count": null,
      "outputs": [
        {
          "output_type": "stream",
          "name": "stdout",
          "text": [
            "<class 'str'>\n"
          ]
        }
      ]
    },
    {
      "cell_type": "code",
      "source": [
        "x= str(5)\n",
        "y=int(6)\n",
        "z= float(4)\n",
        "print(x)\n",
        "print(y)\n",
        "print(z)"
      ],
      "metadata": {
        "colab": {
          "base_uri": "https://localhost:8080/"
        },
        "id": "TyLNrDxvg3lx",
        "outputId": "0732a6e0-96eb-4389-b0dc-9ae91f7d366b"
      },
      "execution_count": null,
      "outputs": [
        {
          "output_type": "stream",
          "name": "stdout",
          "text": [
            "5\n",
            "6\n",
            "4.0\n"
          ]
        }
      ]
    },
    {
      "cell_type": "code",
      "source": [
        "print(type(x))\n",
        "print(type(z))\n",
        "print(type(y))"
      ],
      "metadata": {
        "colab": {
          "base_uri": "https://localhost:8080/"
        },
        "id": "ucbOMK8qhff8",
        "outputId": "2852c7b4-e683-43df-a1fe-888edb002d3e"
      },
      "execution_count": null,
      "outputs": [
        {
          "output_type": "stream",
          "name": "stdout",
          "text": [
            "<class 'str'>\n",
            "<class 'float'>\n",
            "<class 'int'>\n"
          ]
        }
      ]
    },
    {
      "cell_type": "code",
      "source": [
        "x"
      ],
      "metadata": {
        "colab": {
          "base_uri": "https://localhost:8080/",
          "height": 36
        },
        "id": "k3M-2DJkh99A",
        "outputId": "7ae99f8f-be09-4e25-8fb8-78812c7d597a"
      },
      "execution_count": null,
      "outputs": [
        {
          "output_type": "execute_result",
          "data": {
            "text/plain": [
              "'5'"
            ],
            "application/vnd.google.colaboratory.intrinsic+json": {
              "type": "string"
            }
          },
          "metadata": {},
          "execution_count": 8
        }
      ]
    },
    {
      "cell_type": "code",
      "source": [
        "y"
      ],
      "metadata": {
        "colab": {
          "base_uri": "https://localhost:8080/"
        },
        "id": "ukDlMYM1idnp",
        "outputId": "5898f195-93a3-4be2-e364-9cfb15803482"
      },
      "execution_count": null,
      "outputs": [
        {
          "output_type": "execute_result",
          "data": {
            "text/plain": [
              "6"
            ]
          },
          "metadata": {},
          "execution_count": 9
        }
      ]
    },
    {
      "cell_type": "code",
      "source": [
        "z"
      ],
      "metadata": {
        "colab": {
          "base_uri": "https://localhost:8080/"
        },
        "id": "p6EsPTghif1J",
        "outputId": "2fa597f7-6f2b-4580-dcae-882940b5bf09"
      },
      "execution_count": null,
      "outputs": [
        {
          "output_type": "execute_result",
          "data": {
            "text/plain": [
              "4.0"
            ]
          },
          "metadata": {},
          "execution_count": 10
        }
      ]
    },
    {
      "cell_type": "code",
      "source": [
        "y=float(6)"
      ],
      "metadata": {
        "id": "haPLYyFPihby"
      },
      "execution_count": null,
      "outputs": []
    },
    {
      "cell_type": "code",
      "source": [
        "y"
      ],
      "metadata": {
        "colab": {
          "base_uri": "https://localhost:8080/"
        },
        "id": "_vNQyzpajI6x",
        "outputId": "c4807b1c-6039-4d47-b8df-b942bf80837c"
      },
      "execution_count": null,
      "outputs": [
        {
          "output_type": "execute_result",
          "data": {
            "text/plain": [
              "6.0"
            ]
          },
          "metadata": {},
          "execution_count": 12
        }
      ]
    },
    {
      "cell_type": "code",
      "source": [
        "name=str(10.0)\n",
        "name=int(10.0)\n",
        "name"
      ],
      "metadata": {
        "colab": {
          "base_uri": "https://localhost:8080/"
        },
        "id": "tR8O0AGijMG1",
        "outputId": "176b8168-27b1-4247-fa69-74b3f8bc30d5"
      },
      "execution_count": null,
      "outputs": [
        {
          "output_type": "execute_result",
          "data": {
            "text/plain": [
              "10"
            ]
          },
          "metadata": {},
          "execution_count": 18
        }
      ]
    },
    {
      "cell_type": "code",
      "source": [
        "type(name)"
      ],
      "metadata": {
        "colab": {
          "base_uri": "https://localhost:8080/"
        },
        "id": "YYxtPEIjl0P8",
        "outputId": "bb9caf6f-93ff-49b3-e6a0-ce7f6c1f6f76"
      },
      "execution_count": null,
      "outputs": [
        {
          "output_type": "execute_result",
          "data": {
            "text/plain": [
              "int"
            ]
          },
          "metadata": {},
          "execution_count": 19
        }
      ]
    },
    {
      "cell_type": "code",
      "source": [
        "age=float(55)\n",
        "age=str(55)\n",
        "age"
      ],
      "metadata": {
        "colab": {
          "base_uri": "https://localhost:8080/",
          "height": 36
        },
        "id": "8M0xWacaj-1r",
        "outputId": "5a227d01-eaad-41bc-862e-fe49c25d28b4"
      },
      "execution_count": null,
      "outputs": [
        {
          "output_type": "execute_result",
          "data": {
            "text/plain": [
              "'55'"
            ],
            "application/vnd.google.colaboratory.intrinsic+json": {
              "type": "string"
            }
          },
          "metadata": {},
          "execution_count": 23
        }
      ]
    },
    {
      "cell_type": "code",
      "source": [],
      "metadata": {
        "id": "YPRQ0UNwmgNI"
      },
      "execution_count": null,
      "outputs": []
    }
  ]
}