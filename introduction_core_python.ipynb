{
  "nbformat": 4,
  "nbformat_minor": 0,
  "metadata": {
    "colab": {
      "provenance": []
    },
    "kernelspec": {
      "name": "python3",
      "display_name": "Python 3"
    },
    "language_info": {
      "name": "python"
    }
  },
  "cells": [
    {
      "cell_type": "markdown",
      "source": [
        "### **python**"
      ],
      "metadata": {
        "id": "HH2omd1Fcrdv"
      }
    },
    {
      "cell_type": "code",
      "execution_count": null,
      "metadata": {
        "id": "vCtHtDypbq3s"
      },
      "outputs": [],
      "source": [
        "#python is a popular programming lamguage\n",
        "#python can be used on a server to create web applications"
      ]
    },
    {
      "cell_type": "markdown",
      "source": [],
      "metadata": {
        "id": "ilrX4EBXnfUu"
      }
    },
    {
      "cell_type": "markdown",
      "source": [],
      "metadata": {
        "id": "rLQ_o_t6nlab"
      }
    },
    {
      "cell_type": "markdown",
      "source": [],
      "metadata": {
        "id": "J1_8xV2vnp-q"
      }
    },
    {
      "cell_type": "markdown",
      "source": [],
      "metadata": {
        "id": "0L5lxbZZnsWo"
      }
    },
    {
      "cell_type": "markdown",
      "source": [],
      "metadata": {
        "id": "CPiLIYQcntww"
      }
    },
    {
      "cell_type": "markdown",
      "source": [],
      "metadata": {
        "id": "E4w31-2ndQOc"
      }
    },
    {
      "cell_type": "markdown",
      "source": [
        "python\n",
        "\n",
        "python ia a popular programming language.\n",
        "\n",
        "python can be used on a server to ceate web\n",
        "\n",
        "applications."
      ],
      "metadata": {
        "id": "wQtK6Y0Vdk60"
      }
    },
    {
      "cell_type": "code",
      "source": [],
      "metadata": {
        "id": "qTkKWLWalFN7"
      },
      "execution_count": null,
      "outputs": []
    },
    {
      "cell_type": "markdown",
      "source": [
        "python can be used on a server to create web application.\n",
        "\n",
        "python can be used to handle big data and perform complex mathematics.\n",
        "\n",
        "python can be ued for rapid prototyping,or for production-ready software developement.\n",
        "\n",
        "python works on different platforms(windows,mac,linux,raspberry pi,etc).\n",
        "\n",
        "python has a simple syntax similar to the english languages.\n",
        "\n",
        "python runs on an interpreter system,meaning that code can be executed as soon as it is written.this means that prototyping can be very quick.\n",
        "\n",
        "python can be treated in a procedural way,an object-oriented way or a functional way.\n",
        "\n",
        "\n",
        "\n",
        "\n",
        "\n",
        "\n",
        "\n",
        "\n",
        "** PRINT SYNTAX**\n",
        "\n",
        "we use it for display or show the output.\n"
      ],
      "metadata": {
        "id": "2zKn_KSdc4TS"
      }
    },
    {
      "cell_type": "code",
      "source": [
        "print(42.5)"
      ],
      "metadata": {
        "colab": {
          "base_uri": "https://localhost:8080/"
        },
        "id": "R0Qg0jc_lSOa",
        "outputId": "4f4b2d26-2e7f-499b-e61f-e52820b1411c"
      },
      "execution_count": null,
      "outputs": [
        {
          "output_type": "stream",
          "name": "stdout",
          "text": [
            "42.5\n"
          ]
        }
      ]
    },
    {
      "cell_type": "code",
      "source": [
        "print(\"arjun\")"
      ],
      "metadata": {
        "colab": {
          "base_uri": "https://localhost:8080/"
        },
        "id": "MhV6Z5dIlNi_",
        "outputId": "289789ef-ebe2-49c8-d0b6-c66c02f35d56"
      },
      "execution_count": null,
      "outputs": [
        {
          "output_type": "stream",
          "name": "stdout",
          "text": [
            "arjun\n"
          ]
        }
      ]
    },
    {
      "cell_type": "markdown",
      "source": [],
      "metadata": {
        "id": "xWm2VFg6n8a_"
      }
    },
    {
      "cell_type": "markdown",
      "source": [
        "NUMERIC= int (42)\n",
        "\n",
        "POINT= float(45.5)\n",
        "\n",
        "NAME= string(arjun)\n"
      ],
      "metadata": {
        "id": "DZm09GsOoHQ7"
      }
    },
    {
      "cell_type": "code",
      "source": [],
      "metadata": {
        "id": "UjVioLcHlIHA"
      },
      "execution_count": null,
      "outputs": []
    }
  ]
}